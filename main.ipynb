{
 "cells": [
  {
   "cell_type": "markdown",
   "metadata": {},
   "source": [
    "# Bar Graph"
   ]
  },
  {
   "cell_type": "code",
   "execution_count": 44,
   "metadata": {},
   "outputs": [
    {
     "data": {
      "image/png": "[encoded data removed]",
      "text/plain": [
       "<Figure size 1000x600 with 1 Axes>"
      ]
     },
     "metadata": {},
     "output_type": "display_data"
    }
   ],
   "source": [
    "import pandas as pd\n",
    "import matplotlib.pyplot as plt\n",
    "\n",
    "df_bar = pd.read_csv(\"data/bar_assignment.csv\")\n",
    "\n",
    "df_bar['COUNT'] = df_bar['COUNT'].replace({1: 'Yes', 0: 'No'})\n",
    "\n",
    "summary = df_bar.groupby(['LABEL', 'COUNT']).size().unstack(fill_value=0)\n",
    "\n",
    "ax = summary.plot(kind='barh', stacked=True, color=['red', 'blue'], figsize=(10, 6))\n",
    "\n",
    "plt.xlabel('Count')\n",
    "plt.ylabel('Labels')\n",
    "plt.title('Response Distribution by Label')\n",
    "\n",
    "def add_value_labels(ax):\n",
    "    for rect in ax.containers:\n",
    "        for bar in rect:\n",
    "            width = bar.get_width()\n",
    "            x = bar.get_x() + width/2\n",
    "            y = bar.get_y() + bar.get_height()/2\n",
    "            \n",
    "            if width > 0:\n",
    "                label = int(width)\n",
    "                ax.text(x, y, label, \n",
    "                       ha='center', va='center',\n",
    "                       color='white', fontweight='bold')\n",
    "\n",
    "add_value_labels(ax)\n",
    "\n",
    "plt.show()"
   ]
  },
  {
   "cell_type": "markdown",
   "metadata": {},
   "source": [
    "# Sankey Diagram"
   ]
  },
  {
   "cell_type": "code",
   "execution_count": 45,
   "metadata": {},
   "outputs": [
    {
     "data": {
      "application/vnd.plotly.v1+json": {
       "config": {
        "plotlyServerURL": "https://plot.ly"
       },
       "data": [
        {
         "link": {
          "color": [
           "#f28e2c",
           "#f28e2c",
           "#f28e2c",
           "#f28e2c",
           "#f28e2c",
           "#6c91c2",
           "#6c91c2",
           "#6c91c2",
           "#6c91c2",
           "#6c91c2",
           "#ffbe7a",
           "#ffbe7a",
           "#ffbe7a",
           "#ffbe7a",
           "#ffbe7a",
           "#a1d99b",
           "#a1d99b",
           "#a1d99b",
           "#a1d99b",
           "#a1d99b",
           "#e15759",
           "#e15759",
           "#e15759",
           "#e15759",
           "#e15759",
           "#bcbd22",
           "#bcbd22",
           "#bcbd22",
           "#bcbd22",
           "#bcbd22",
           "#ff9896",
           "#ff9896",
           "#ff9896",
           "#ff9896",
           "#ff9896",
           "#9467bd",
           "#9467bd",
           "#9467bd",
           "#9467bd",
           "#9467bd",
           "#87CEEB",
           "#5B7D91",
           "#59a4a8",
           "#4682B4",
           "#007BA7",
           "#87CEEB",
           "#5B7D91",
           "#59a4a8",
           "#4682B4",
           "#007BA7",
           "#87CEEB",
           "#5B7D91",
           "#59a4a8",
           "#4682B4",
           "#007BA7"
          ],
          "source": [
           0,
           0,
           0,
           0,
           0,
           1,
           1,
           1,
           1,
           1,
           2,
           2,
           2,
           2,
           2,
           3,
           3,
           3,
           3,
           3,
           4,
           4,
           4,
           4,
           4,
           5,
           5,
           5,
           5,
           5,
           6,
           6,
           6,
           6,
           6,
           7,
           7,
           7,
           7,
           7,
           8,
           9,
           10,
           11,
           12,
           8,
           9,
           10,
           11,
           12,
           8,
           9,
           10,
           11,
           12
          ],
          "target": [
           8,
           9,
           10,
           11,
           12,
           8,
           9,
           10,
           11,
           12,
           8,
           9,
           10,
           11,
           12,
           8,
           9,
           10,
           11,
           12,
           8,
           9,
           10,
           11,
           12,
           8,
           9,
           10,
           11,
           12,
           8,
           9,
           10,
           11,
           12,
           8,
           9,
           10,
           11,
           12,
           13,
           13,
           13,
           13,
           13,
           14,
           14,
           14,
           14,
           14,
           15,
           15,
           15,
           15,
           15
          ],
          "value": [
           3,
           0,
           1,
           1,
           0,
           4,
           1,
           1,
           1,
           1,
           1,
           2,
           2,
           1,
           0,
           1,
           1,
           0,
           1,
           0,
           0,
           1,
           0,
           0,
           0,
           0,
           0,
           0,
           1,
           0,
           1,
           0,
           1,
           1,
           0,
           1,
           1,
           1,
           0,
           0,
           2,
           2,
           1,
           2,
           0,
           7,
           2,
           3,
           2,
           1,
           1,
           0,
           1,
           1,
           0
          ]
         },
         "node": {
          "color": [
           "#f28e2c",
           "#6c91c2",
           "#ffbe7a",
           "#a1d99b",
           "#e15759",
           "#bcbd22",
           "#ff9896",
           "#9467bd",
           "#87CEEB",
           "#5B7D91",
           "#59a4a8",
           "#4682B4",
           "#007BA7",
           "#2ca02c",
           "#64c364",
           "#8cba68"
          ],
          "label": [
           "PS",
           "OMP",
           "CNP",
           "NRP",
           "NMCCC",
           "PEC",
           "NCDM",
           "RGS",
           "S",
           "F",
           "D",
           "N",
           "I",
           "Reg",
           "Aca",
           "Oth"
          ],
          "line": {
           "color": "black",
           "width": 0.5
          },
          "pad": 20,
          "thickness": 20
         },
         "type": "sankey"
        }
       ],
       "layout": {
        "font": {
         "color": "black",
         "family": "Arial",
         "size": 16
        },
        "height": 600,
        "template": {
         "data": {
          "bar": [
           {
            "error_x": {
             "color": "#2a3f5f"
            },
            "error_y": {
             "color": "#2a3f5f"
            },
            "marker": {
             "line": {
              "color": "#E5ECF6",
              "width": 0.5
             },
             "pattern": {
              "fillmode": "overlay",
              "size": 10,
              "solidity": 0.2
             }
            },
            "type": "bar"
           }
          ],
          "barpolar": [
           {
            "marker": {
             "line": {
              "color": "#E5ECF6",
              "width": 0.5
             },
             "pattern": {
              "fillmode": "overlay",
              "size": 10,
              "solidity": 0.2
             }
            },
            "type": "barpolar"
           }
          ],
          "carpet": [
           {
            "aaxis": {
             "endlinecolor": "#2a3f5f",
             "gridcolor": "white",
             "linecolor": "white",
             "minorgridcolor": "white",
             "startlinecolor": "#2a3f5f"
            },
            "baxis": {
             "endlinecolor": "#2a3f5f",
             "gridcolor": "white",
             "linecolor": "white",
             "minorgridcolor": "white",
             "startlinecolor": "#2a3f5f"
            },
            "type": "carpet"
           }
          ],
          "choropleth": [
           {
            "colorbar": {
             "outlinewidth": 0,
             "ticks": ""
            },
            "type": "choropleth"
           }
          ],
          "contour": [
           {
            "colorbar": {
             "outlinewidth": 0,
             "ticks": ""
            },
            "colorscale": [
             [
              0,
              "#0d0887"
             ],
             [
              0.1111111111111111,
              "#46039f"
             ],
             [
              0.2222222222222222,
              "#7201a8"
             ],
             [
              0.3333333333333333,
              "#9c179e"
             ],
             [
              0.4444444444444444,
              "#bd3786"
             ],
             [
              0.5555555555555556,
              "#d8576b"
             ],
             [
              0.6666666666666666,
              "#ed7953"
             ],
             [
              0.7777777777777778,
              "#fb9f3a"
             ],
             [
              0.8888888888888888,
              "#fdca26"
             ],
             [
              1,
              "#f0f921"
             ]
            ],
            "type": "contour"
           }
          ],
          "contourcarpet": [
           {
            "colorbar": {
             "outlinewidth": 0,
             "ticks": ""
            },
            "type": "contourcarpet"
           }
          ],
          "heatmap": [
           {
            "colorbar": {
             "outlinewidth": 0,
             "ticks": ""
            },
            "colorscale": [
             [
              0,
              "#0d0887"
             ],
             [
              0.1111111111111111,
              "#46039f"
             ],
             [
              0.2222222222222222,
              "#7201a8"
             ],
             [
              0.3333333333333333,
              "#9c179e"
             ],
             [
              0.4444444444444444,
              "#bd3786"
             ],
             [
              0.5555555555555556,
              "#d8576b"
             ],
             [
              0.6666666666666666,
              "#ed7953"
             ],
             [
              0.7777777777777778,
              "#fb9f3a"
             ],
             [
              0.8888888888888888,
              "#fdca26"
             ],
             [
              1,
              "#f0f921"
             ]
            ],
            "type": "heatmap"
           }
          ],
          "histogram": [
           {
            "marker": {
             "pattern": {
              "fillmode": "overlay",
              "size": 10,
              "solidity": 0.2
             }
            },
            "type": "histogram"
           }
          ],
          "histogram2d": [
           {
            "colorbar": {
             "outlinewidth": 0,
             "ticks": ""
            },
            "colorscale": [
             [
              0,
              "#0d0887"
             ],
             [
              0.1111111111111111,
              "#46039f"
             ],
             [
              0.2222222222222222,
              "#7201a8"
             ],
             [
              0.3333333333333333,
              "#9c179e"
             ],
             [
              0.4444444444444444,
              "#bd3786"
             ],
             [
              0.5555555555555556,
              "#d8576b"
             ],
             [
              0.6666666666666666,
              "#ed7953"
             ],
             [
              0.7777777777777778,
              "#fb9f3a"
             ],
             [
              0.8888888888888888,
              "#fdca26"
             ],
             [
              1,
              "#f0f921"
             ]
            ],
            "type": "histogram2d"
           }
          ],
          "histogram2dcontour": [
           {
            "colorbar": {
             "outlinewidth": 0,
             "ticks": ""
            },
            "colorscale": [
             [
              0,
              "#0d0887"
             ],
             [
              0.1111111111111111,
              "#46039f"
             ],
             [
              0.2222222222222222,
              "#7201a8"
             ],
             [
              0.3333333333333333,
              "#9c179e"
             ],
             [
              0.4444444444444444,
              "#bd3786"
             ],
             [
              0.5555555555555556,
              "#d8576b"
             ],
             [
              0.6666666666666666,
              "#ed7953"
             ],
             [
              0.7777777777777778,
              "#fb9f3a"
             ],
             [
              0.8888888888888888,
              "#fdca26"
             ],
             [
              1,
              "#f0f921"
             ]
            ],
            "type": "histogram2dcontour"
           }
          ],
          "mesh3d": [
           {
            "colorbar": {
             "outlinewidth": 0,
             "ticks": ""
            },
            "type": "mesh3d"
           }
          ],
          "parcoords": [
           {
            "line": {
             "colorbar": {
              "outlinewidth": 0,
              "ticks": ""
             }
            },
            "type": "parcoords"
           }
          ],
          "pie": [
           {
            "automargin": true,
            "type": "pie"
           }
          ],
          "scatter": [
           {
            "fillpattern": {
             "fillmode": "overlay",
             "size": 10,
             "solidity": 0.2
            },
            "type": "scatter"
           }
          ],
          "scatter3d": [
           {
            "line": {
             "colorbar": {
              "outlinewidth": 0,
              "ticks": ""
             }
            },
            "marker": {
             "colorbar": {
              "outlinewidth": 0,
              "ticks": ""
             }
            },
            "type": "scatter3d"
           }
          ],
          "scattercarpet": [
           {
            "marker": {
             "colorbar": {
              "outlinewidth": 0,
              "ticks": ""
             }
            },
            "type": "scattercarpet"
           }
          ],
          "scattergeo": [
           {
            "marker": {
             "colorbar": {
              "outlinewidth": 0,
              "ticks": ""
             }
            },
            "type": "scattergeo"
           }
          ],
          "scattergl": [
           {
            "marker": {
             "colorbar": {
              "outlinewidth": 0,
              "ticks": ""
             }
            },
            "type": "scattergl"
           }
          ],
          "scattermap": [
           {
            "marker": {
             "colorbar": {
              "outlinewidth": 0,
              "ticks": ""
             }
            },
            "type": "scattermap"
           }
          ],
          "scattermapbox": [
           {
            "marker": {
             "colorbar": {
              "outlinewidth": 0,
              "ticks": ""
             }
            },
            "type": "scattermapbox"
           }
          ],
          "scatterpolar": [
           {
            "marker": {
             "colorbar": {
              "outlinewidth": 0,
              "ticks": ""
             }
            },
            "type": "scatterpolar"
           }
          ],
          "scatterpolargl": [
           {
            "marker": {
             "colorbar": {
              "outlinewidth": 0,
              "ticks": ""
             }
            },
            "type": "scatterpolargl"
           }
          ],
          "scatterternary": [
           {
            "marker": {
             "colorbar": {
              "outlinewidth": 0,
              "ticks": ""
             }
            },
            "type": "scatterternary"
           }
          ],
          "surface": [
           {
            "colorbar": {
             "outlinewidth": 0,
             "ticks": ""
            },
            "colorscale": [
             [
              0,
              "#0d0887"
             ],
             [
              0.1111111111111111,
              "#46039f"
             ],
             [
              0.2222222222222222,
              "#7201a8"
             ],
             [
              0.3333333333333333,
              "#9c179e"
             ],
             [
              0.4444444444444444,
              "#bd3786"
             ],
             [
              0.5555555555555556,
              "#d8576b"
             ],
             [
              0.6666666666666666,
              "#ed7953"
             ],
             [
              0.7777777777777778,
              "#fb9f3a"
             ],
             [
              0.8888888888888888,
              "#fdca26"
             ],
             [
              1,
              "#f0f921"
             ]
            ],
            "type": "surface"
           }
          ],
          "table": [
           {
            "cells": {
             "fill": {
              "color": "#EBF0F8"
             },
             "line": {
              "color": "white"
             }
            },
            "header": {
             "fill": {
              "color": "#C8D4E3"
             },
             "line": {
              "color": "white"
             }
            },
            "type": "table"
           }
          ]
         },
         "layout": {
          "annotationdefaults": {
           "arrowcolor": "#2a3f5f",
           "arrowhead": 0,
           "arrowwidth": 1
          },
          "autotypenumbers": "strict",
          "coloraxis": {
           "colorbar": {
            "outlinewidth": 0,
            "ticks": ""
           }
          },
          "colorscale": {
           "diverging": [
            [
             0,
             "#8e0152"
            ],
            [
             0.1,
             "#c51b7d"
            ],
            [
             0.2,
             "#de77ae"
            ],
            [
             0.3,
             "#f1b6da"
            ],
            [
             0.4,
             "#fde0ef"
            ],
            [
             0.5,
             "#f7f7f7"
            ],
            [
             0.6,
             "#e6f5d0"
            ],
            [
             0.7,
             "#b8e186"
            ],
            [
             0.8,
             "#7fbc41"
            ],
            [
             0.9,
             "#4d9221"
            ],
            [
             1,
             "#276419"
            ]
           ],
           "sequential": [
            [
             0,
             "#0d0887"
            ],
            [
             0.1111111111111111,
             "#46039f"
            ],
            [
             0.2222222222222222,
             "#7201a8"
            ],
            [
             0.3333333333333333,
             "#9c179e"
            ],
            [
             0.4444444444444444,
             "#bd3786"
            ],
            [
             0.5555555555555556,
             "#d8576b"
            ],
            [
             0.6666666666666666,
             "#ed7953"
            ],
            [
             0.7777777777777778,
             "#fb9f3a"
            ],
            [
             0.8888888888888888,
             "#fdca26"
            ],
            [
             1,
             "#f0f921"
            ]
           ],
           "sequentialminus": [
            [
             0,
             "#0d0887"
            ],
            [
             0.1111111111111111,
             "#46039f"
            ],
            [
             0.2222222222222222,
             "#7201a8"
            ],
            [
             0.3333333333333333,
             "#9c179e"
            ],
            [
             0.4444444444444444,
             "#bd3786"
            ],
            [
             0.5555555555555556,
             "#d8576b"
            ],
            [
             0.6666666666666666,
             "#ed7953"
            ],
            [
             0.7777777777777778,
             "#fb9f3a"
            ],
            [
             0.8888888888888888,
             "#fdca26"
            ],
            [
             1,
             "#f0f921"
            ]
           ]
          },
          "colorway": [
           "#636efa",
           "#EF553B",
           "#00cc96",
           "#ab63fa",
           "#FFA15A",
           "#19d3f3",
           "#FF6692",
           "#B6E880",
           "#FF97FF",
           "#FECB52"
          ],
          "font": {
           "color": "#2a3f5f"
          },
          "geo": {
           "bgcolor": "white",
           "lakecolor": "white",
           "landcolor": "#E5ECF6",
           "showlakes": true,
           "showland": true,
           "subunitcolor": "white"
          },
          "hoverlabel": {
           "align": "left"
          },
          "hovermode": "closest",
          "mapbox": {
           "style": "light"
          },
          "paper_bgcolor": "white",
          "plot_bgcolor": "#E5ECF6",
          "polar": {
           "angularaxis": {
            "gridcolor": "white",
            "linecolor": "white",
            "ticks": ""
           },
           "bgcolor": "#E5ECF6",
           "radialaxis": {
            "gridcolor": "white",
            "linecolor": "white",
            "ticks": ""
           }
          },
          "scene": {
           "xaxis": {
            "backgroundcolor": "#E5ECF6",
            "gridcolor": "white",
            "gridwidth": 2,
            "linecolor": "white",
            "showbackground": true,
            "ticks": "",
            "zerolinecolor": "white"
           },
           "yaxis": {
            "backgroundcolor": "#E5ECF6",
            "gridcolor": "white",
            "gridwidth": 2,
            "linecolor": "white",
            "showbackground": true,
            "ticks": "",
            "zerolinecolor": "white"
           },
           "zaxis": {
            "backgroundcolor": "#E5ECF6",
            "gridcolor": "white",
            "gridwidth": 2,
            "linecolor": "white",
            "showbackground": true,
            "ticks": "",
            "zerolinecolor": "white"
           }
          },
          "shapedefaults": {
           "line": {
            "color": "#2a3f5f"
           }
          },
          "ternary": {
           "aaxis": {
            "gridcolor": "white",
            "linecolor": "white",
            "ticks": ""
           },
           "baxis": {
            "gridcolor": "white",
            "linecolor": "white",
            "ticks": ""
           },
           "bgcolor": "#E5ECF6",
           "caxis": {
            "gridcolor": "white",
            "linecolor": "white",
            "ticks": ""
           }
          },
          "title": {
           "x": 0.05
          },
          "xaxis": {
           "automargin": true,
           "gridcolor": "white",
           "linecolor": "white",
           "ticks": "",
           "title": {
            "standoff": 15
           },
           "zerolinecolor": "white",
           "zerolinewidth": 2
          },
          "yaxis": {
           "automargin": true,
           "gridcolor": "white",
           "linecolor": "white",
           "ticks": "",
           "title": {
            "standoff": 15
           },
           "zerolinecolor": "white",
           "zerolinewidth": 2
          }
         }
        },
        "title": {
         "text": "Sankey Diagram",
         "x": 0.5
        },
        "width": 1000
       }
      }
     },
     "metadata": {},
     "output_type": "display_data"
    }
   ],
   "source": [
    "import pandas as pd\n",
    "import plotly.graph_objects as go\n",
    "\n",
    "file_path = \"data/sankey_assignment.csv\"\n",
    "df = pd.read_csv(file_path)\n",
    "\n",
    "source_labels = [\"PS\", \"OMP\", \"CNP\", \"NRP\", \"NMCCC\", \"PEC\", \"NCDM\", \"RGS\"]\n",
    "middle_labels = df[\"LABEL\"].tolist()\n",
    "target_labels = [\"Reg\", \"Aca\", \"Oth\"]\n",
    "\n",
    "all_labels = source_labels + middle_labels + target_labels\n",
    "\n",
    "sources_raw, targets_raw, values = [], [], []\n",
    "\n",
    "for src in source_labels:\n",
    "    for idx, row in df.iterrows():\n",
    "        sources_raw.append(src)\n",
    "        targets_raw.append(row[\"LABEL\"])\n",
    "        values.append(row[src])\n",
    "\n",
    "for tgt in target_labels:\n",
    "    for idx, row in df.iterrows():\n",
    "        sources_raw.append(row[\"LABEL\"])\n",
    "        targets_raw.append(tgt)\n",
    "        values.append(row[tgt])\n",
    "\n",
    "source_indices = [all_labels.index(src) for src in sources_raw]\n",
    "target_indices = [all_labels.index(tgt) for tgt in targets_raw]\n",
    "\n",
    "node_colors = {\n",
    "    \"PS\": \"#f28e2c\", \"OMP\": \"#6c91c2\", \"CNP\": \"#ffbe7a\", \"NRP\": \"#a1d99b\",\n",
    "    \"NMCCC\": \"#e15759\", \"PEC\": \"#bcbd22\", \"NCDM\": \"#ff9896\", \"RGS\": \"#9467bd\",\n",
    "    \"S\": \"#87CEEB\", \"F\": \"#5B7D91\", \"D\": \"#59a4a8\", \"N\": \"#4682B4\", \"I\": \"#007BA7\",\n",
    "    \"Reg\": \"#2ca02c\", \"Aca\": \"#64c364\", \"Oth\": \"#8cba68\"\n",
    "}\n",
    "default_color = \"lightgrey\"\n",
    "node_colors_list = [node_colors.get(label, default_color) for label in all_labels]\n",
    "link_colors = [node_colors.get(src, default_color) for src in sources_raw]\n",
    "\n",
    "\n",
    "fig = go.Figure(data=[go.Sankey(\n",
    "    node=dict(\n",
    "        pad=20,\n",
    "        thickness=20,\n",
    "        line=dict(color=\"black\", width=0.5),\n",
    "        label=all_labels,\n",
    "        color=node_colors_list\n",
    "    ),\n",
    "    link=dict(\n",
    "        source=source_indices,\n",
    "        target=target_indices,\n",
    "        value=values,\n",
    "        color=link_colors\n",
    "    )\n",
    ")])\n",
    "\n",
    "\n",
    "fig.update_layout(\n",
    "    title_text=\"Sankey Diagram\",\n",
    "    font=dict(\n",
    "        family=\"Arial\",  \n",
    "        size=16,               \n",
    "        color=\"black\",\n",
    "    ),\n",
    "    title_x=0.5,  \n",
    "    height=600,\n",
    "    width=1000\n",
    ")\n",
    "\n",
    "fig.show()"
   ]
  },
  {
   "cell_type": "markdown",
   "metadata": {},
   "source": [
    "# Network Graph"
   ]
  },
  {
   "cell_type": "code",
   "execution_count": 46,
   "metadata": {},
   "outputs": [
    {
     "data": {
      "image/png": "[encoded data removed]",
      "text/plain": [
       "<Figure size 1000x800 with 1 Axes>"
      ]
     },
     "metadata": {},
     "output_type": "display_data"
    }
   ],
   "source": [
    "import pandas as pd\n",
    "import matplotlib.pyplot as plt\n",
    "import networkx as nx\n",
    "import numpy as np\n",
    "\n",
    "plt.rcParams['font.family'] = 'DejaVu Sans'\n",
    "\n",
    "file_path = \"data/networks_assignment.csv\"\n",
    "df = pd.read_csv(file_path)\n",
    "\n",
    "blue_nodes = ['D', 'F', 'I', 'N', 'S']  \n",
    "green_nodes = ['BIH', 'GEO', 'ISR', 'MNE', 'SRB', 'CHE', 'TUR', 'UKR', 'GBR', 'AUS', 'HKG', 'ASU']\n",
    "yellow_nodes = ['AUT', 'BEL', 'BGR', 'HRV', 'CZE', 'EST', 'FRA', 'DEU', 'GRC', 'HUN', 'IRL',\n",
    "                'ITA', 'LVA', 'LUX', 'NLD', 'PRT', 'ROU', 'SVK', 'SVN', 'ESP']\n",
    "\n",
    "all_nodes = blue_nodes + green_nodes + yellow_nodes\n",
    "\n",
    "def find_distance_networks(source, target):\n",
    "    try:\n",
    "        return df.loc[df['LABELS'] == source, target].values[0]\n",
    "    except (IndexError, KeyError):\n",
    "        return 0\n",
    "\n",
    "def find_edges(collection, source_group, target_group):\n",
    "    for s in source_group:\n",
    "        for t in target_group:\n",
    "            if find_distance_networks(s, t) > 0:\n",
    "                collection.append((s, t))\n",
    "\n",
    "edges_bb = []  \n",
    "edges_bg = []  \n",
    "edges_by = []  \n",
    "\n",
    "find_edges(edges_bb, blue_nodes, blue_nodes)\n",
    "find_edges(edges_bg, blue_nodes, green_nodes)\n",
    "find_edges(edges_by, blue_nodes, yellow_nodes)\n",
    "\n",
    "edges = edges_bb + edges_bg + edges_by\n",
    "\n",
    "G = nx.Graph()\n",
    "G.add_nodes_from(all_nodes)\n",
    "G.add_edges_from(edges)\n",
    "\n",
    "pos = {}\n",
    "\n",
    "pos.update({\n",
    "    'D': np.array([0, 0.5]),\n",
    "    'F': np.array([0.35, 0.15]),\n",
    "    'I': np.array([-0.35, 0.15]),\n",
    "    'N': np.array([-0.20, -0.4]),\n",
    "    'S': np.array([0.20, -0.4])\n",
    "})\n",
    "\n",
    "r_outer = 1.5  \n",
    "\n",
    "num_green = len(green_nodes)\n",
    "for i, node in enumerate(green_nodes):\n",
    "\n",
    "    if num_green > 1:\n",
    "        angle = -np.pi/2 + (np.pi * i / (num_green - 1))\n",
    "    else:\n",
    "        angle = 0\n",
    "    pos[node] = np.array([np.cos(angle) * r_outer, np.sin(angle) * r_outer])\n",
    "\n",
    "num_yellow = len(yellow_nodes)\n",
    "for i, node in enumerate(yellow_nodes):\n",
    "\n",
    "    if num_yellow > 1:\n",
    "        angle = np.pi/2 + (np.pi * i / (num_yellow - 1))\n",
    "    else:\n",
    "        angle = np.pi\n",
    "    pos[node] = np.array([np.cos(angle) * r_outer, np.sin(angle) * r_outer])\n",
    "\n",
    "node_color_mapping = {}\n",
    "for node in blue_nodes:\n",
    "    node_color_mapping[node] = '#0197B2'  \n",
    "for node in green_nodes:\n",
    "    node_color_mapping[node] = '#00C063'  \n",
    "for node in yellow_nodes:\n",
    "    node_color_mapping[node] = '#FFDE59'  \n",
    "\n",
    "node_colors = [node_color_mapping[node] for node in G.nodes()]\n",
    "\n",
    "plt.figure(figsize=(10, 8))\n",
    "\n",
    "nx.draw_networkx_nodes(G, pos, node_color=node_colors, node_size=700)\n",
    "\n",
    "nx.draw_networkx_edges(G, pos, edge_color='black')\n",
    "\n",
    "nx.draw_networkx_labels(\n",
    "    G, pos,\n",
    "    font_size=10,\n",
    "    font_color='white',\n",
    "    font_weight='bold'\n",
    ")\n",
    "\n",
    "plt.title(\"Network Graph\", fontdict={\n",
    "    'fontsize': 12,\n",
    "    'fontweight': 'bold',\n",
    "    'fontfamily': 'DejaVu Sans'\n",
    "})\n",
    "\n",
    "plt.axis('off')\n",
    "plt.show()"
   ]
  },
  {
   "cell_type": "markdown",
   "metadata": {},
   "source": [
    "# Collated Graphs"
   ]
  },
  {
   "cell_type": "code",
   "execution_count": null,
   "metadata": {},
   "outputs": [],
   "source": []
  }
 ],
 "metadata": {
  "kernelspec": {
   "display_name": "Python 3",
   "language": "python",
   "name": "python3"
  },
  "language_info": {
   "codemirror_mode": {
    "name": "ipython",
    "version": 3
   },
   "file_extension": ".py",
   "mimetype": "text/x-python",
   "name": "python",
   "nbconvert_exporter": "python",
   "pygments_lexer": "ipython3",
   "version": "3.13.2"
  }
 },
 "nbformat": 4,
 "nbformat_minor": 2
}
